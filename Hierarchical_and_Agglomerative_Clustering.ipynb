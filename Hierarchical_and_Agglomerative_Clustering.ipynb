{
 "cells": [
  {
   "cell_type": "markdown",
   "metadata": {},
   "source": [
    "## Nama : Ari Wilyan Ramadhelza\n",
    "## NIM    : 1301164708\n",
    "## Kelas : SIDE-40-GAB01\n",
    "\n",
    "## Tugas Data Mining\n",
    "### Hierarchical - Agglomerative Clustering"
   ]
  },
  {
   "cell_type": "code",
   "execution_count": 47,
   "metadata": {},
   "outputs": [],
   "source": [
    "# Import basic library that we need\n",
    "import numpy as np\n",
    "import matplotlib.pyplot as plt"
   ]
  },
  {
   "cell_type": "code",
   "execution_count": 5,
   "metadata": {},
   "outputs": [],
   "source": [
    "# Dataset\n",
    "np.random.seed(200)\n",
    "list_x = []\n",
    "list_y = []\n",
    "max = 300\n",
    "\n",
    "for i in range(max):\n",
    "    x = np.random.randint(1, 70)\n",
    "    y = np.random.randint(1, 70)\n",
    "    list_x.append(x)\n",
    "    list_y.append(y)"
   ]
  },
  {
   "cell_type": "code",
   "execution_count": 62,
   "metadata": {},
   "outputs": [],
   "source": [
    "# Fix dataset\n",
    "df = pd.DataFrame({\n",
    "    'x': list_x,\n",
    "    'y': list_y\n",
    "})\n",
    "dataset = df.values"
   ]
  },
  {
   "cell_type": "code",
   "execution_count": 85,
   "metadata": {},
   "outputs": [
    {
     "data": {
      "text/plain": [
       "array([[27, 17],\n",
       "       [69, 43],\n",
       "       [56, 15],\n",
       "       [58, 12],\n",
       "       [ 7, 43],\n",
       "       [57,  2],\n",
       "       [ 8, 52],\n",
       "       [28, 16],\n",
       "       [ 2, 24],\n",
       "       [25,  8],\n",
       "       [23, 55],\n",
       "       [17, 36],\n",
       "       [32, 33],\n",
       "       [46, 60],\n",
       "       [46, 62],\n",
       "       [21,  1],\n",
       "       [ 4, 56],\n",
       "       [57,  4],\n",
       "       [34,  1],\n",
       "       [53, 62],\n",
       "       [59, 69],\n",
       "       [63, 53],\n",
       "       [ 7, 28],\n",
       "       [69, 65],\n",
       "       [69, 51],\n",
       "       [30, 23],\n",
       "       [ 8, 34],\n",
       "       [31, 58],\n",
       "       [24,  6],\n",
       "       [41, 27],\n",
       "       [66,  1],\n",
       "       [46, 39],\n",
       "       [38, 28],\n",
       "       [44, 47],\n",
       "       [34, 46],\n",
       "       [16, 30],\n",
       "       [65, 28],\n",
       "       [30, 33],\n",
       "       [64, 44],\n",
       "       [26, 66],\n",
       "       [34, 22],\n",
       "       [13, 43],\n",
       "       [46, 16],\n",
       "       [56, 51],\n",
       "       [16, 62],\n",
       "       [43, 10],\n",
       "       [49, 38],\n",
       "       [69, 43],\n",
       "       [ 7, 47],\n",
       "       [61,  8],\n",
       "       [ 1, 17],\n",
       "       [32, 29],\n",
       "       [ 9, 16],\n",
       "       [66, 65],\n",
       "       [ 3, 68],\n",
       "       [ 5, 62],\n",
       "       [63, 60],\n",
       "       [25, 18],\n",
       "       [31, 53],\n",
       "       [ 4, 31],\n",
       "       [68, 17],\n",
       "       [48, 35],\n",
       "       [43, 11],\n",
       "       [58, 54],\n",
       "       [22, 16],\n",
       "       [31, 53],\n",
       "       [14,  3],\n",
       "       [34, 28],\n",
       "       [64, 64],\n",
       "       [25, 22],\n",
       "       [43,  5],\n",
       "       [64, 31],\n",
       "       [28, 37],\n",
       "       [55, 44],\n",
       "       [ 8, 43],\n",
       "       [25, 37],\n",
       "       [37, 16],\n",
       "       [24, 27],\n",
       "       [58, 33],\n",
       "       [57, 28],\n",
       "       [43, 58],\n",
       "       [ 3, 40],\n",
       "       [58, 45],\n",
       "       [20, 43],\n",
       "       [67,  6],\n",
       "       [66, 26],\n",
       "       [16, 34],\n",
       "       [67, 19],\n",
       "       [21, 60],\n",
       "       [10, 25],\n",
       "       [12, 11],\n",
       "       [57, 61],\n",
       "       [38, 56],\n",
       "       [61, 52],\n",
       "       [28,  1],\n",
       "       [64, 41],\n",
       "       [21, 67],\n",
       "       [50, 12],\n",
       "       [35, 66],\n",
       "       [49, 65],\n",
       "       [45,  9],\n",
       "       [44,  6],\n",
       "       [41, 46],\n",
       "       [40, 56],\n",
       "       [63, 40],\n",
       "       [47, 19],\n",
       "       [62, 13],\n",
       "       [38, 65],\n",
       "       [18,  1],\n",
       "       [16, 60],\n",
       "       [41, 58],\n",
       "       [19, 42],\n",
       "       [23, 35],\n",
       "       [24, 11],\n",
       "       [35, 22],\n",
       "       [64, 32],\n",
       "       [32, 15],\n",
       "       [60, 48],\n",
       "       [22, 26],\n",
       "       [19, 24],\n",
       "       [ 7, 62],\n",
       "       [41, 49],\n",
       "       [53, 56],\n",
       "       [53, 27],\n",
       "       [ 5, 63],\n",
       "       [35, 11],\n",
       "       [43,  3],\n",
       "       [69, 34],\n",
       "       [40, 53],\n",
       "       [ 4, 35],\n",
       "       [21, 41],\n",
       "       [45,  5],\n",
       "       [29,  4],\n",
       "       [33, 63],\n",
       "       [37, 44],\n",
       "       [15,  9],\n",
       "       [52, 10],\n",
       "       [55,  7],\n",
       "       [54, 26],\n",
       "       [52,  3],\n",
       "       [52, 34],\n",
       "       [25, 52],\n",
       "       [16, 52],\n",
       "       [13,  6],\n",
       "       [38, 24],\n",
       "       [42, 55],\n",
       "       [44, 58],\n",
       "       [ 6, 64],\n",
       "       [42, 21],\n",
       "       [48, 64],\n",
       "       [36, 37],\n",
       "       [55, 20],\n",
       "       [29,  8],\n",
       "       [11, 46],\n",
       "       [56, 45],\n",
       "       [13, 58],\n",
       "       [12,  7],\n",
       "       [22, 69],\n",
       "       [20, 64],\n",
       "       [68, 19],\n",
       "       [54, 47],\n",
       "       [35, 25],\n",
       "       [50, 57],\n",
       "       [ 9, 25],\n",
       "       [38, 31],\n",
       "       [10, 26],\n",
       "       [52, 46],\n",
       "       [13, 68],\n",
       "       [63, 29],\n",
       "       [67, 30],\n",
       "       [24, 17],\n",
       "       [48, 13],\n",
       "       [49, 19],\n",
       "       [59, 68],\n",
       "       [20, 51],\n",
       "       [27, 18],\n",
       "       [38, 50],\n",
       "       [19, 37],\n",
       "       [50, 49],\n",
       "       [18, 17],\n",
       "       [45, 65],\n",
       "       [62, 39],\n",
       "       [32, 42],\n",
       "       [22, 51],\n",
       "       [34,  3],\n",
       "       [52, 35],\n",
       "       [44, 22],\n",
       "       [ 3,  4],\n",
       "       [60, 39],\n",
       "       [42, 59],\n",
       "       [49, 15],\n",
       "       [66, 22],\n",
       "       [ 7, 41],\n",
       "       [25,  5],\n",
       "       [47, 61],\n",
       "       [59, 13],\n",
       "       [41, 59],\n",
       "       [37, 12],\n",
       "       [13, 63],\n",
       "       [63, 50],\n",
       "       [66, 41],\n",
       "       [15, 27],\n",
       "       [20, 65],\n",
       "       [64,  7],\n",
       "       [63, 12],\n",
       "       [36, 53],\n",
       "       [33,  7],\n",
       "       [10, 44],\n",
       "       [14, 57],\n",
       "       [ 6, 33],\n",
       "       [27, 29],\n",
       "       [57, 38],\n",
       "       [ 5, 28],\n",
       "       [25, 65],\n",
       "       [ 3, 31],\n",
       "       [ 3, 68],\n",
       "       [41, 63],\n",
       "       [26,  4],\n",
       "       [63,  1],\n",
       "       [57, 49],\n",
       "       [54, 13],\n",
       "       [47, 38],\n",
       "       [39, 30],\n",
       "       [ 2,  8],\n",
       "       [52, 10],\n",
       "       [44, 36],\n",
       "       [26, 37],\n",
       "       [43, 51],\n",
       "       [25,  3],\n",
       "       [11, 15],\n",
       "       [57, 23],\n",
       "       [37, 35],\n",
       "       [ 8,  7],\n",
       "       [43,  9],\n",
       "       [ 4, 53],\n",
       "       [18, 27],\n",
       "       [68,  7],\n",
       "       [45, 41],\n",
       "       [67, 48],\n",
       "       [42, 25],\n",
       "       [ 2, 30],\n",
       "       [22, 12],\n",
       "       [22,  7],\n",
       "       [ 3, 46],\n",
       "       [65, 56],\n",
       "       [27, 38],\n",
       "       [45,  4],\n",
       "       [ 8, 36],\n",
       "       [ 3,  8],\n",
       "       [12, 34],\n",
       "       [55, 69],\n",
       "       [49, 56],\n",
       "       [43, 36],\n",
       "       [39, 30],\n",
       "       [42, 49],\n",
       "       [49, 30],\n",
       "       [ 9, 47],\n",
       "       [12, 62],\n",
       "       [19, 40],\n",
       "       [ 5,  2],\n",
       "       [56, 51],\n",
       "       [58, 39],\n",
       "       [17, 21],\n",
       "       [45,  6],\n",
       "       [60,  8],\n",
       "       [43, 67],\n",
       "       [19, 64],\n",
       "       [69, 41],\n",
       "       [57, 41],\n",
       "       [11, 48],\n",
       "       [44, 50],\n",
       "       [69, 45],\n",
       "       [ 1,  6],\n",
       "       [30, 13],\n",
       "       [66, 68],\n",
       "       [56, 35],\n",
       "       [51, 52],\n",
       "       [33, 69],\n",
       "       [28, 59],\n",
       "       [66, 17],\n",
       "       [35, 45],\n",
       "       [64, 54],\n",
       "       [67, 36],\n",
       "       [38, 31],\n",
       "       [66, 58],\n",
       "       [38, 44],\n",
       "       [37, 59],\n",
       "       [58, 27],\n",
       "       [13, 16],\n",
       "       [45, 37],\n",
       "       [20, 45],\n",
       "       [ 8, 15],\n",
       "       [42, 13],\n",
       "       [49,  2],\n",
       "       [10, 63],\n",
       "       [62,  9],\n",
       "       [38, 20],\n",
       "       [21, 23],\n",
       "       [42, 45],\n",
       "       [11, 30]], dtype=int64)"
      ]
     },
     "execution_count": 85,
     "metadata": {},
     "output_type": "execute_result"
    }
   ],
   "source": [
    "dataset"
   ]
  },
  {
   "cell_type": "code",
   "execution_count": 70,
   "metadata": {},
   "outputs": [],
   "source": [
    "# Import library for hierarchical clustering\n",
    "import scipy.cluster.hierarchy as sch\n",
    "from sklearn.cluster import AgglomerativeClustering"
   ]
  },
  {
   "cell_type": "code",
   "execution_count": 71,
   "metadata": {},
   "outputs": [
    {
     "data": {
      "image/png": "[encoded data removed]",
      "text/plain": [
       "<Figure size 432x288 with 1 Axes>"
      ]
     },
     "metadata": {
      "needs_background": "light"
     },
     "output_type": "display_data"
    }
   ],
   "source": [
    "dendrogram = sch.dendrogram(sch.linkage(dataset, method='ward'))"
   ]
  },
  {
   "cell_type": "code",
   "execution_count": 72,
   "metadata": {},
   "outputs": [
    {
     "data": {
      "text/plain": [
       "<matplotlib.collections.PathCollection at 0x1df99246a90>"
      ]
     },
     "execution_count": 72,
     "metadata": {},
     "output_type": "execute_result"
    },
    {
     "data": {
      "image/png": "[encoded data removed]",
      "text/plain": [
       "<Figure size 432x288 with 1 Axes>"
      ]
     },
     "metadata": {
      "needs_background": "light"
     },
     "output_type": "display_data"
    }
   ],
   "source": [
    "plt.scatter(dataset[:,0], dataset[:,1])"
   ]
  },
  {
   "cell_type": "code",
   "execution_count": 73,
   "metadata": {},
   "outputs": [],
   "source": [
    "# Perform the actual clustering\n",
    "hc = AgglomerativeClustering(n_clusters=3, affinity = 'euclidean', linkage='ward')"
   ]
  },
  {
   "cell_type": "code",
   "execution_count": 74,
   "metadata": {},
   "outputs": [],
   "source": [
    "y_hc = hc.fit_predict(dataset)"
   ]
  },
  {
   "cell_type": "code",
   "execution_count": 81,
   "metadata": {},
   "outputs": [
    {
     "data": {
      "text/plain": [
       "<matplotlib.collections.PathCollection at 0x1df9a62db00>"
      ]
     },
     "execution_count": 81,
     "metadata": {},
     "output_type": "execute_result"
    },
    {
     "data": {
      "image/png": "[encoded data removed]",
      "text/plain": [
       "<Figure size 432x288 with 1 Axes>"
      ]
     },
     "metadata": {
      "needs_background": "light"
     },
     "output_type": "display_data"
    }
   ],
   "source": [
    "plt.scatter(dataset[y_hc == 0,0], dataset[y_hc == 0,1], s=100, c='cyan')\n",
    "plt.scatter(dataset[y_hc == 1,0], dataset[y_hc == 1,1], s=100, c='yellow')\n",
    "plt.scatter(dataset[y_hc == 2,0], dataset[y_hc == 2,1], s=100, c='red')"
   ]
  },
  {
   "cell_type": "code",
   "execution_count": null,
   "metadata": {},
   "outputs": [],
   "source": []
  }
 ],
 "metadata": {
  "kernelspec": {
   "display_name": "Python 3",
   "language": "python",
   "name": "python3"
  },
  "language_info": {
   "codemirror_mode": {
    "name": "ipython",
    "version": 3
   },
   "file_extension": ".py",
   "mimetype": "text/x-python",
   "name": "python",
   "nbconvert_exporter": "python",
   "pygments_lexer": "ipython3",
   "version": "3.7.3"
  }
 },
 "nbformat": 4,
 "nbformat_minor": 4
}
